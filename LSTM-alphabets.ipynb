{
  "nbformat": 4,
  "nbformat_minor": 0,
  "metadata": {
    "colab": {
      "provenance": [],
      "authorship_tag": "ABX9TyPe4GnvUtZNrG8gNZwjJaB4",
      "include_colab_link": true
    },
    "kernelspec": {
      "name": "python3",
      "display_name": "Python 3"
    },
    "language_info": {
      "name": "python"
    }
  },
  "cells": [
    {
      "cell_type": "markdown",
      "metadata": {
        "id": "view-in-github",
        "colab_type": "text"
      },
      "source": [
        "<a href=\"https://colab.research.google.com/github/cmansoo/scratch/blob/main/LSTM-alphabets.ipynb\" target=\"_parent\"><img src=\"https://colab.research.google.com/assets/colab-badge.svg\" alt=\"Open In Colab\"/></a>"
      ]
    },
    {
      "cell_type": "code",
      "source": [
        "import numpy as np\n",
        "import keras\n",
        "import time\n",
        "\n",
        "from keras.utils import to_categorical\n",
        "from keras.layers import Dense, LSTM, Activation\n",
        "from keras.models import Sequential"
      ],
      "metadata": {
        "id": "9gWmwEcREfar"
      },
      "execution_count": 182,
      "outputs": []
    },
    {
      "cell_type": "code",
      "source": [
        "# measure training time\n",
        "class TimeHistory(keras.callbacks.Callback):\n",
        "    def on_train_begin(self, logs={}):\n",
        "        self.times = []\n",
        "\n",
        "    def on_epoch_begin(self, batch, logs={}):\n",
        "        self.epoch_time_start = time.time()\n",
        "\n",
        "    def on_epoch_end(self, batch, logs={}):\n",
        "        self.times.append(time.time() - self.epoch_time_start)"
      ],
      "metadata": {
        "id": "aq9_mcV1aHUn"
      },
      "execution_count": 183,
      "outputs": []
    },
    {
      "cell_type": "markdown",
      "source": [
        "## 1. experiment 1\n",
        "\n",
        "fixed length sequence with no padding\n",
        "ABC -> D, BCD -> E, etc."
      ],
      "metadata": {
        "id": "gfRcXBUOI8xy"
      }
    },
    {
      "cell_type": "code",
      "execution_count": 184,
      "metadata": {
        "colab": {
          "base_uri": "https://localhost:8080/"
        },
        "id": "SluC4dwXq47H",
        "outputId": "ff4cd663-8969-486f-c9d1-b62269d1ef2d"
      },
      "outputs": [
        {
          "output_type": "stream",
          "name": "stdout",
          "text": [
            "ABC -> D\n",
            "BCD -> E\n",
            "CDE -> F\n",
            "DEF -> G\n",
            "EFG -> H\n",
            "FGH -> I\n",
            "GHI -> J\n",
            "HIJ -> K\n",
            "IJK -> L\n",
            "JKL -> M\n",
            "KLM -> N\n",
            "LMN -> O\n",
            "MNO -> P\n",
            "NOP -> Q\n",
            "OPQ -> R\n",
            "PQR -> S\n",
            "QRS -> T\n",
            "RST -> U\n",
            "STU -> V\n",
            "TUV -> W\n",
            "UVW -> X\n",
            "VWX -> Y\n",
            "WXY -> Z\n"
          ]
        }
      ],
      "source": [
        "# define the raw data\n",
        "alphabet='ABCDEFGHIJKLMNOPQRSTUVWXYZ'\n",
        "n_features = 1\n",
        "seq_len = 3\n",
        "\n",
        "# create a dictionary(map) of the letter index to character\n",
        "char_to_int = dict((c, i) for i, c in enumerate(alphabet))\n",
        "int_to_char = dict((i, c) for i, c in enumerate(alphabet))\n",
        "dataX=[]; dataY=[]\n",
        "\n",
        "for i in range(0, len(alphabet)-seq_len, 1):\n",
        "  seq_in = alphabet[i:i + seq_len]\n",
        "  seq_out = alphabet[i + seq_len]\n",
        "  dataX.append([char_to_int[char] for char in seq_in])\n",
        "  dataY.append(char_to_int[seq_out])\n",
        "  print(seq_in, '->', seq_out)\n",
        "\n",
        "\n",
        "X = np.array(dataX)\n",
        "y = np.array(dataY)\n",
        "\n",
        "# dataX.shape\n",
        "# dataY.shape\n",
        "X = X.reshape(len(dataX), seq_len, n_features)\n",
        "# standardize?\n",
        "X = X / float(len(alphabet))\n",
        "# one hot encoding\n",
        "y = to_categorical(y)\n",
        "\n",
        "n_classes = y.shape[1]"
      ]
    },
    {
      "cell_type": "code",
      "source": [
        "# models\n",
        "model = Sequential()\n",
        "model.add(LSTM(32, input_shape=(seq_len, n_features), return_sequences=False))\n",
        "model.add(Dense(n_classes, activation=\"softmax\"))\n",
        "model.compile(loss='categorical_crossentropy', optimizer='adam', metrics=[\"accuracy\"])\n",
        "\n",
        "model.summary()"
      ],
      "metadata": {
        "colab": {
          "base_uri": "https://localhost:8080/"
        },
        "id": "Yfhr46vqEirf",
        "outputId": "da99838a-b367-41db-ed88-2deebca618e9"
      },
      "execution_count": 185,
      "outputs": [
        {
          "output_type": "stream",
          "name": "stdout",
          "text": [
            "Model: \"sequential_22\"\n",
            "_________________________________________________________________\n",
            " Layer (type)                Output Shape              Param #   \n",
            "=================================================================\n",
            " lstm_22 (LSTM)              (None, 32)                4352      \n",
            "                                                                 \n",
            " dense_22 (Dense)            (None, 26)                858       \n",
            "                                                                 \n",
            "=================================================================\n",
            "Total params: 5210 (20.35 KB)\n",
            "Trainable params: 5210 (20.35 KB)\n",
            "Non-trainable params: 0 (0.00 Byte)\n",
            "_________________________________________________________________\n"
          ]
        }
      ]
    },
    {
      "cell_type": "code",
      "source": [
        "# fit\n",
        "time_callback = TimeHistory()\n",
        "history = model.fit(X, y, epochs=400, batch_size=1, verbose=False, callbacks=[time_callback])\n",
        "times = time_callback.times\n",
        "# print(times)\n",
        "print(sum(times))"
      ],
      "metadata": {
        "colab": {
          "base_uri": "https://localhost:8080/"
        },
        "id": "nwkIa2oaSOS2",
        "outputId": "a8e6e43e-ad3f-40cb-d8f0-5e383b2b03c7"
      },
      "execution_count": 186,
      "outputs": [
        {
          "output_type": "stream",
          "name": "stdout",
          "text": [
            "26.73193645477295\n"
          ]
        }
      ]
    },
    {
      "cell_type": "code",
      "source": [
        "# plot\n",
        "import matplotlib.pyplot as plt\n",
        "plt.plot(history.history[\"accuracy\"])\n",
        "plt.title(\"model accuracy\")\n",
        "plt.xlabel(\"epoch\")\n",
        "plt.ylabel(\"ylabel\")\n",
        "plt.show()"
      ],
      "metadata": {
        "id": "HgDDuOb7SXsq",
        "colab": {
          "base_uri": "https://localhost:8080/",
          "height": 472
        },
        "outputId": "a39ffaa6-cb85-4866-d8ee-11552052eb5e"
      },
      "execution_count": 187,
      "outputs": [
        {
          "output_type": "display_data",
          "data": {
            "text/plain": [
              "<Figure size 640x480 with 1 Axes>"
            ],
            "image/png": "[encoded data removed]"
          },
          "metadata": {}
        }
      ]
    },
    {
      "cell_type": "code",
      "source": [
        "scores = model.evaluate(X, y)\n",
        "y_pred = model.predict(X)"
      ],
      "metadata": {
        "colab": {
          "base_uri": "https://localhost:8080/"
        },
        "id": "-8flUF3xb2yc",
        "outputId": "77179850-3d7e-4d66-aafb-930851867840"
      },
      "execution_count": 188,
      "outputs": [
        {
          "output_type": "stream",
          "name": "stdout",
          "text": [
            "1/1 [==============================] - 1s 542ms/step - loss: 0.3346 - accuracy: 1.0000\n",
            "1/1 [==============================] - 0s 410ms/step\n"
          ]
        }
      ]
    },
    {
      "cell_type": "code",
      "source": [
        "# show predictions\n",
        "print(\"Model accuracy:\", scores[1])\n",
        "\n",
        "for ind, row in zip(y_pred.argmax(axis=1), dataX):\n",
        "  pred_seq = [int_to_char[char] for char in row]\n",
        "  pred_y = int_to_char[ind]\n",
        "  print(pred_seq, \"->\", pred_y)"
      ],
      "metadata": {
        "colab": {
          "base_uri": "https://localhost:8080/"
        },
        "id": "KE6Vj3epcN22",
        "outputId": "084aa152-768f-43ad-af98-65cfee77aa12"
      },
      "execution_count": 189,
      "outputs": [
        {
          "output_type": "stream",
          "name": "stdout",
          "text": [
            "Model accuracy: 1.0\n",
            "['A', 'B', 'C'] -> D\n",
            "['B', 'C', 'D'] -> E\n",
            "['C', 'D', 'E'] -> F\n",
            "['D', 'E', 'F'] -> G\n",
            "['E', 'F', 'G'] -> H\n",
            "['F', 'G', 'H'] -> I\n",
            "['G', 'H', 'I'] -> J\n",
            "['H', 'I', 'J'] -> K\n",
            "['I', 'J', 'K'] -> L\n",
            "['J', 'K', 'L'] -> M\n",
            "['K', 'L', 'M'] -> N\n",
            "['L', 'M', 'N'] -> O\n",
            "['M', 'N', 'O'] -> P\n",
            "['N', 'O', 'P'] -> Q\n",
            "['O', 'P', 'Q'] -> R\n",
            "['P', 'Q', 'R'] -> S\n",
            "['Q', 'R', 'S'] -> T\n",
            "['R', 'S', 'T'] -> U\n",
            "['S', 'T', 'U'] -> V\n",
            "['T', 'U', 'V'] -> W\n",
            "['U', 'V', 'W'] -> X\n",
            "['V', 'W', 'X'] -> Y\n",
            "['W', 'X', 'Y'] -> Z\n"
          ]
        }
      ]
    },
    {
      "cell_type": "markdown",
      "source": [
        "## Experiment 2\n",
        "\n",
        "variable length sequence with padding.\n",
        "i.e. AB -> C, BCD -> E, CDEF -> G, etc. seq_len = 6 will be the max."
      ],
      "metadata": {
        "id": "kfoGdIsdbZna"
      }
    },
    {
      "cell_type": "code",
      "source": [
        "# preprocess data\n",
        "dataX = []\n",
        "dataY = []\n",
        "max_len = 6 # seq_length\n",
        "n_records = 100\n",
        "n_features = 1\n",
        "np.random.seed(100)\n",
        "\n",
        "for i in range(n_records):\n",
        "  start = np.random.randint(len(alphabet)-2)\n",
        "  end = np.random.randint(start, min(start + max_len, len(alphabet) - 1))\n",
        "  seq_in = alphabet[start:end + 1]\n",
        "  seq_out = alphabet[end + 1]\n",
        "  dataX.append([char_to_int[char] for char in seq_in])\n",
        "  dataY.append(char_to_int[seq_out])\n",
        "  print(seq_in, \"->\", seq_out)\n",
        "\n",
        "# pad sequences\n",
        "from keras.preprocessing.sequence import pad_sequences\n",
        "X = pad_sequences(dataX, maxlen=max_len, dtype=\"float32\")\n",
        "# reshape\n",
        "X = X.reshape(n_records, max_len, n_features)\n",
        "# standardize X\n",
        "X = X / float(len(alphabet))\n",
        "# one hot encode Y\n",
        "y = to_categorical(dataY)\n",
        "n_classes = y.shape[1]"
      ],
      "metadata": {
        "colab": {
          "base_uri": "https://localhost:8080/"
        },
        "id": "fMhfY2Iubdvs",
        "outputId": "7da907a6-7712-4455-8246-7e42eae857a0"
      },
      "execution_count": 190,
      "outputs": [
        {
          "output_type": "stream",
          "name": "stdout",
          "text": [
            "I -> J\n",
            "D -> E\n",
            "KLMNO -> P\n",
            "CDEFGH -> I\n",
            "CDE -> F\n",
            "OPQ -> R\n",
            "R -> S\n",
            "PQRST -> U\n",
            "LMNOP -> Q\n",
            "QRST -> U\n",
            "JKLMNO -> P\n",
            "WXY -> Z\n",
            "MNOPQ -> R\n",
            "BCDEFG -> H\n",
            "VWXY -> Z\n",
            "EFGHI -> J\n",
            "DE -> F\n",
            "PQ -> R\n",
            "OPQR -> S\n",
            "QRS -> T\n",
            "JKLM -> N\n",
            "CDEFGH -> I\n",
            "OP -> Q\n",
            "QRSTUV -> W\n",
            "GHIJK -> L\n",
            "S -> T\n",
            "CDEFGH -> I\n",
            "KL -> M\n",
            "IJKLMN -> O\n",
            "KL -> M\n",
            "V -> W\n",
            "S -> T\n",
            "TUVWXY -> Z\n",
            "O -> P\n",
            "NO -> P\n",
            "MNO -> P\n",
            "DEFG -> H\n",
            "UVW -> X\n",
            "X -> Y\n",
            "PQRST -> U\n",
            "DE -> F\n",
            "QRSTU -> V\n",
            "LMNOP -> Q\n",
            "FGH -> I\n",
            "KLMNO -> P\n",
            "STUVWX -> Y\n",
            "X -> Y\n",
            "BCD -> E\n",
            "GHI -> J\n",
            "W -> X\n",
            "X -> Y\n",
            "TUVWXY -> Z\n",
            "EFG -> H\n",
            "EFGH -> I\n",
            "XY -> Z\n",
            "J -> K\n",
            "QRSTUV -> W\n",
            "WXY -> Z\n",
            "FGH -> I\n",
            "UVW -> X\n",
            "HIJK -> L\n",
            "TU -> V\n",
            "CDEF -> G\n",
            "XY -> Z\n",
            "NOPQRS -> T\n",
            "NOPQ -> R\n",
            "QRSTU -> V\n",
            "WXY -> Z\n",
            "NOPQR -> S\n",
            "DEFGH -> I\n",
            "UVW -> X\n",
            "IJ -> K\n",
            "IJKLM -> N\n",
            "VWX -> Y\n",
            "X -> Y\n",
            "MNOPQR -> S\n",
            "AB -> C\n",
            "IJKLM -> N\n",
            "C -> D\n",
            "FGHI -> J\n",
            "CDEF -> G\n",
            "OPQRST -> U\n",
            "UV -> W\n",
            "OPQR -> S\n",
            "BCDEF -> G\n",
            "I -> J\n",
            "STU -> V\n",
            "HIJ -> K\n",
            "RST -> U\n",
            "XY -> Z\n",
            "NOP -> Q\n",
            "ABC -> D\n",
            "VWX -> Y\n",
            "DEFGH -> I\n",
            "FGH -> I\n",
            "GH -> I\n",
            "KLMNOP -> Q\n",
            "RSTUVW -> X\n",
            "CDEFG -> H\n",
            "LMNOPQ -> R\n"
          ]
        }
      ]
    },
    {
      "cell_type": "code",
      "source": [
        "# define model\n",
        "model2 = Sequential()\n",
        "model2.add(LSTM(32, input_shape=(max_len, n_features), return_sequences=False))\n",
        "model2.add(Dense(n_classes, activation=\"softmax\"))\n",
        "model2.compile(loss=\"categorical_crossentropy\", optimizer=\"adam\", metrics=[\"accuracy\"])\n",
        "\n",
        "model2.summary()"
      ],
      "metadata": {
        "colab": {
          "base_uri": "https://localhost:8080/"
        },
        "id": "zuCXK7judOHk",
        "outputId": "f5acf5be-a029-41f5-f2c4-4f69b6295a6f"
      },
      "execution_count": 191,
      "outputs": [
        {
          "output_type": "stream",
          "name": "stdout",
          "text": [
            "Model: \"sequential_23\"\n",
            "_________________________________________________________________\n",
            " Layer (type)                Output Shape              Param #   \n",
            "=================================================================\n",
            " lstm_23 (LSTM)              (None, 32)                4352      \n",
            "                                                                 \n",
            " dense_23 (Dense)            (None, 26)                858       \n",
            "                                                                 \n",
            "=================================================================\n",
            "Total params: 5210 (20.35 KB)\n",
            "Trainable params: 5210 (20.35 KB)\n",
            "Non-trainable params: 0 (0.00 Byte)\n",
            "_________________________________________________________________\n"
          ]
        }
      ]
    },
    {
      "cell_type": "code",
      "source": [
        "# fit\n",
        "history = model2.fit(X, y, epochs=400, batch_size=1, verbose=False, callbacks=[time_callback])\n",
        "times = time_callback.times\n",
        "# print(times)\n",
        "print(sum(times))"
      ],
      "metadata": {
        "colab": {
          "base_uri": "https://localhost:8080/"
        },
        "id": "HK97h28mgl6g",
        "outputId": "22dfc0b4-0719-4836-b477-6b1ccff69884"
      },
      "execution_count": 192,
      "outputs": [
        {
          "output_type": "stream",
          "name": "stdout",
          "text": [
            "124.36076927185059\n"
          ]
        }
      ]
    },
    {
      "cell_type": "code",
      "source": [
        "# plot\n",
        "plt.plot(history.history[\"accuracy\"])\n",
        "plt.title(\"model accuracy\")\n",
        "plt.xlabel(\"epoch\")\n",
        "plt.ylabel(\"ylabel\")\n",
        "plt.show()"
      ],
      "metadata": {
        "colab": {
          "base_uri": "https://localhost:8080/",
          "height": 472
        },
        "id": "VHk7xveKlK0U",
        "outputId": "de2c4c7b-ed94-43a0-dafa-3c96cdb8b838"
      },
      "execution_count": 193,
      "outputs": [
        {
          "output_type": "display_data",
          "data": {
            "text/plain": [
              "<Figure size 640x480 with 1 Axes>"
            ],
            "image/png": "[encoded data removed]"
          },
          "metadata": {}
        }
      ]
    },
    {
      "cell_type": "code",
      "source": [
        "scores = model2.evaluate(X, y)\n",
        "y_pred = model2.predict(X)"
      ],
      "metadata": {
        "colab": {
          "base_uri": "https://localhost:8080/"
        },
        "id": "xlCMKDcKlOO1",
        "outputId": "4d78edf8-d2d4-4ab8-ae51-31885eb5055d"
      },
      "execution_count": 194,
      "outputs": [
        {
          "output_type": "stream",
          "name": "stdout",
          "text": [
            "4/4 [==============================] - 1s 5ms/step - loss: 0.3573 - accuracy: 0.8700\n",
            "4/4 [==============================] - 0s 4ms/step\n"
          ]
        }
      ]
    },
    {
      "cell_type": "code",
      "source": [
        "# show predictions\n",
        "print(\"Model accuracy:\", scores[1])\n",
        "\n",
        "for ind, row in zip(y_pred.argmax(axis=1), dataX):\n",
        "  pred_seq = [int_to_char[char] for char in row]\n",
        "  pred_y = int_to_char[ind]\n",
        "  print(pred_seq, \"->\", pred_y)"
      ],
      "metadata": {
        "colab": {
          "base_uri": "https://localhost:8080/"
        },
        "id": "12LV37aaldf9",
        "outputId": "13bb962d-bb88-4bae-937e-f05f2c45d480"
      },
      "execution_count": 195,
      "outputs": [
        {
          "output_type": "stream",
          "name": "stdout",
          "text": [
            "Model accuracy: 0.8700000047683716\n",
            "['I'] -> J\n",
            "['D'] -> D\n",
            "['K', 'L', 'M', 'N', 'O'] -> P\n",
            "['C', 'D', 'E', 'F', 'G', 'H'] -> I\n",
            "['C', 'D', 'E'] -> F\n",
            "['O', 'P', 'Q'] -> R\n",
            "['R'] -> T\n",
            "['P', 'Q', 'R', 'S', 'T'] -> U\n",
            "['L', 'M', 'N', 'O', 'P'] -> Q\n",
            "['Q', 'R', 'S', 'T'] -> U\n",
            "['J', 'K', 'L', 'M', 'N', 'O'] -> P\n",
            "['W', 'X', 'Y'] -> Z\n",
            "['M', 'N', 'O', 'P', 'Q'] -> R\n",
            "['B', 'C', 'D', 'E', 'F', 'G'] -> H\n",
            "['V', 'W', 'X', 'Y'] -> Z\n",
            "['E', 'F', 'G', 'H', 'I'] -> J\n",
            "['D', 'E'] -> F\n",
            "['P', 'Q'] -> R\n",
            "['O', 'P', 'Q', 'R'] -> S\n",
            "['Q', 'R', 'S'] -> T\n",
            "['J', 'K', 'L', 'M'] -> N\n",
            "['C', 'D', 'E', 'F', 'G', 'H'] -> I\n",
            "['O', 'P'] -> Q\n",
            "['Q', 'R', 'S', 'T', 'U', 'V'] -> W\n",
            "['G', 'H', 'I', 'J', 'K'] -> L\n",
            "['S'] -> T\n",
            "['C', 'D', 'E', 'F', 'G', 'H'] -> I\n",
            "['K', 'L'] -> M\n",
            "['I', 'J', 'K', 'L', 'M', 'N'] -> O\n",
            "['K', 'L'] -> M\n",
            "['V'] -> Y\n",
            "['S'] -> T\n",
            "['T', 'U', 'V', 'W', 'X', 'Y'] -> Z\n",
            "['O'] -> P\n",
            "['N', 'O'] -> P\n",
            "['M', 'N', 'O'] -> P\n",
            "['D', 'E', 'F', 'G'] -> H\n",
            "['U', 'V', 'W'] -> Y\n",
            "['X'] -> Y\n",
            "['P', 'Q', 'R', 'S', 'T'] -> U\n",
            "['D', 'E'] -> F\n",
            "['Q', 'R', 'S', 'T', 'U'] -> V\n",
            "['L', 'M', 'N', 'O', 'P'] -> Q\n",
            "['F', 'G', 'H'] -> I\n",
            "['K', 'L', 'M', 'N', 'O'] -> P\n",
            "['S', 'T', 'U', 'V', 'W', 'X'] -> Z\n",
            "['X'] -> Y\n",
            "['B', 'C', 'D'] -> E\n",
            "['G', 'H', 'I'] -> J\n",
            "['W'] -> Y\n",
            "['X'] -> Y\n",
            "['T', 'U', 'V', 'W', 'X', 'Y'] -> Z\n",
            "['E', 'F', 'G'] -> H\n",
            "['E', 'F', 'G', 'H'] -> I\n",
            "['X', 'Y'] -> Z\n",
            "['J'] -> J\n",
            "['Q', 'R', 'S', 'T', 'U', 'V'] -> W\n",
            "['W', 'X', 'Y'] -> Z\n",
            "['F', 'G', 'H'] -> I\n",
            "['U', 'V', 'W'] -> Y\n",
            "['H', 'I', 'J', 'K'] -> L\n",
            "['T', 'U'] -> V\n",
            "['C', 'D', 'E', 'F'] -> G\n",
            "['X', 'Y'] -> Z\n",
            "['N', 'O', 'P', 'Q', 'R', 'S'] -> T\n",
            "['N', 'O', 'P', 'Q'] -> R\n",
            "['Q', 'R', 'S', 'T', 'U'] -> V\n",
            "['W', 'X', 'Y'] -> Z\n",
            "['N', 'O', 'P', 'Q', 'R'] -> S\n",
            "['D', 'E', 'F', 'G', 'H'] -> I\n",
            "['U', 'V', 'W'] -> Y\n",
            "['I', 'J'] -> K\n",
            "['I', 'J', 'K', 'L', 'M'] -> N\n",
            "['V', 'W', 'X'] -> Z\n",
            "['X'] -> Y\n",
            "['M', 'N', 'O', 'P', 'Q', 'R'] -> S\n",
            "['A', 'B'] -> D\n",
            "['I', 'J', 'K', 'L', 'M'] -> N\n",
            "['C'] -> D\n",
            "['F', 'G', 'H', 'I'] -> J\n",
            "['C', 'D', 'E', 'F'] -> G\n",
            "['O', 'P', 'Q', 'R', 'S', 'T'] -> U\n",
            "['U', 'V'] -> W\n",
            "['O', 'P', 'Q', 'R'] -> S\n",
            "['B', 'C', 'D', 'E', 'F'] -> G\n",
            "['I'] -> J\n",
            "['S', 'T', 'U'] -> V\n",
            "['H', 'I', 'J'] -> K\n",
            "['R', 'S', 'T'] -> U\n",
            "['X', 'Y'] -> Z\n",
            "['N', 'O', 'P'] -> Q\n",
            "['A', 'B', 'C'] -> D\n",
            "['V', 'W', 'X'] -> Z\n",
            "['D', 'E', 'F', 'G', 'H'] -> I\n",
            "['F', 'G', 'H'] -> I\n",
            "['G', 'H'] -> I\n",
            "['K', 'L', 'M', 'N', 'O', 'P'] -> Q\n",
            "['R', 'S', 'T', 'U', 'V', 'W'] -> Y\n",
            "['C', 'D', 'E', 'F', 'G'] -> H\n",
            "['L', 'M', 'N', 'O', 'P', 'Q'] -> R\n"
          ]
        }
      ]
    }
  ]
}